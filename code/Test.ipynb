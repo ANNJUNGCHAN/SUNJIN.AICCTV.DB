{
 "cells": [
  {
   "cell_type": "markdown",
   "metadata": {},
   "source": [
    "### 업로드 테스트"
   ]
  },
  {
   "cell_type": "code",
   "execution_count": 3,
   "metadata": {},
   "outputs": [],
   "source": [
    "import os\n",
    "os.chdir(\"/code\")\n",
    "import pymysql\n",
    "import time\n",
    "\n",
    "from utils import * "
   ]
  },
  {
   "cell_type": "code",
   "execution_count": 4,
   "metadata": {},
   "outputs": [
    {
     "name": "stdout",
     "output_type": "stream",
     "text": [
      "DB 연결 완료\n",
      "BUGUN Dong_2 OUT 2024-04-22 09:14:37 2024-04-22 09:21:44 1 8\n",
      "Dong_2\n",
      "BUGUN Dong_2 OUT 2024-04-22 09:24:34 2024-04-22 09:30:39 1 8\n",
      "Dong_2\n",
      "BUGUN Dong_3_BACK DEAD 2024-04-30 11:13:01 2024-04-30 11:20:01 4 0\n",
      "Dong_3_BACK\n"
     ]
    }
   ],
   "source": [
    "\n",
    "\n",
    "LOG_PATH = \"/Drive/SSD1/AICCTV_LOG\"\n",
    "VIDEO_PATH = \"/Drive/HDD/AICCTV_VIDEO\"\n",
    "SETTING_PATH = '/code/config.json'\n",
    "\n",
    "log_list = os.listdir(LOG_PATH)\n",
    "log_list = filter_log(log_list)\n",
    "\n",
    "host, port, user, password, db = Load_Private_Info(SETTING_PATH)\n",
    "\n",
    "# connect sql\n",
    "conn = pymysql.connect(host= host,\n",
    "                    port = port,\n",
    "                    user=user,\n",
    "                    password=password,\n",
    "                    db=db,\n",
    "                    charset='utf8')\n",
    "\n",
    "cursor = conn.cursor()\n",
    "\n",
    "query = \"\"\"\n",
    "    INSERT INTO AICCTVDB (Farm, House, Counter, start_time, end_time, incount, outcount)\n",
    "    VALUES (%s, %s, %s, %s, %s, %s, %s)\n",
    "\"\"\"\n",
    "\n",
    "print(\"DB 연결 완료\")\n",
    "\n",
    "if len(log_list) == 0 :\n",
    "    \n",
    "    time.sleep(60*60) # 한시간\n",
    "    pass\n",
    "\n",
    "else :\n",
    "    \n",
    "    for path in log_list :\n",
    "        \n",
    "        Farm, House, COUNTER, start_time, end_time, in_count, out_count = extract_todb(LOG_PATH, path)\n",
    "        \n",
    "        # 만약, 둘다 0이면 비디오와 로그 모두 제거\n",
    "        if (in_count == '0') and (out_count == '0') :\n",
    "            pass\n",
    "            #os.remove(os.path.join(VIDEO_PATH, path.replace('.txt','.avi')))\n",
    "            #os.remove(os.path.join(LOG_PATH, path))\n",
    "        \n",
    "        # 만약, 둘 중 하나가 0이 아니면, 로그는 기록으로 올린 후, 로그만 제거\n",
    "        else :\n",
    "            \n",
    "            print(Farm, House, COUNTER, start_time, end_time, in_count, out_count)\n",
    "            print(House)\n",
    "                \n",
    "            cursor.execute(query, (Farm, House, COUNTER, start_time, end_time, int(in_count), int(out_count)))\n",
    "\n",
    "            # end\n",
    "            conn.commit()\n",
    "            \n",
    "           # os.remove(os.path.join(LOG_PATH, path))"
   ]
  },
  {
   "cell_type": "markdown",
   "metadata": {},
   "source": [
    "### 객체 좌표 테스트 (진행중)"
   ]
  },
  {
   "cell_type": "code",
   "execution_count": 19,
   "metadata": {},
   "outputs": [],
   "source": [
    "import os\n",
    "os.chdir(\"/code\")\n",
    "import pymysql\n",
    "import time\n",
    "import re\n",
    "from ast import literal_eval\n",
    "\n",
    "from utils import * "
   ]
  },
  {
   "cell_type": "code",
   "execution_count": 20,
   "metadata": {},
   "outputs": [],
   "source": [
    "txt_path = '/Drive/SSD1/AICCTV_BACKUP_Detect_Log/BUGUN_Dong_3_BACK_DEAD_20240419_111301_20240419_112001.txt'\n",
    "\n",
    "frame_ids, bboxes, tracks = read_and_parse_file(txt_path)"
   ]
  },
  {
   "cell_type": "markdown",
   "metadata": {},
   "source": [
    "### API PULL REQUEST 테스트"
   ]
  },
  {
   "cell_type": "code",
   "execution_count": 23,
   "metadata": {},
   "outputs": [
    {
     "name": "stdout",
     "output_type": "stream",
     "text": [
      "{\"returnmsg\":\"402\",\"return\":\"2\"}\n",
      "\n"
     ]
    }
   ],
   "source": [
    "import requests\n",
    "\n",
    "\n",
    "\n",
    "response = requests.get('https://www.pig-on.com/pc/api/gf_location_dead.do', headers=headers)\n",
    "print(response.text)"
   ]
  },
  {
   "cell_type": "code",
   "execution_count": 36,
   "metadata": {},
   "outputs": [],
   "source": [
    "headers = {\n",
    "  \"location_erp_code\" : \"A223\" ,\n",
    "  \"start_date\" : \"2024-04-08 10:00:00\" ,\n",
    "  \"end_date\" : \"2024-04-22 13:00:00\"\n",
    " }\n",
    "\n",
    "response = requests.get('https://www.pig-on.com/pc/api/gf_location_dead.do', params = headers)"
   ]
  },
  {
   "cell_type": "code",
   "execution_count": 37,
   "metadata": {},
   "outputs": [
    {
     "name": "stdout",
     "output_type": "stream",
     "text": [
      "{\"returnmsg\":\"402\",\"return\":\"2\"}\n",
      "\n"
     ]
    }
   ],
   "source": [
    "print(response.text)"
   ]
  }
 ],
 "metadata": {
  "kernelspec": {
   "display_name": "Python 3",
   "language": "python",
   "name": "python3"
  },
  "language_info": {
   "codemirror_mode": {
    "name": "ipython",
    "version": 3
   },
   "file_extension": ".py",
   "mimetype": "text/x-python",
   "name": "python",
   "nbconvert_exporter": "python",
   "pygments_lexer": "ipython3",
   "version": "3.8.10"
  }
 },
 "nbformat": 4,
 "nbformat_minor": 2
}
